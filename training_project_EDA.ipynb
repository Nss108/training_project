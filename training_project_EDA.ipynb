{
 "cells": [
  {
   "cell_type": "markdown",
   "id": "a6113891",
   "metadata": {
    "deletable": false,
    "editable": false,
    "id": "c81daeeb"
   },
   "source": [
    "# Исследование надежности заемщиков\n"
   ]
  },
  {
   "cell_type": "markdown",
   "id": "078275bc",
   "metadata": {
    "deletable": false,
    "editable": false,
    "id": "827c20bf"
   },
   "source": [
    "Во второй части проекта вы выполните шаги 3 и 4. Их вручную проверит ревьюер.\n",
    "Чтобы вам не пришлось писать код заново для шагов 1 и 2, мы добавили авторские решения в ячейки с кодом. \n",
    "\n"
   ]
  },
  {
   "cell_type": "markdown",
   "id": "571af795",
   "metadata": {
    "deletable": false,
    "editable": false,
    "id": "744d7639"
   },
   "source": [
    "## Откройте таблицу и изучите общую информацию о данных"
   ]
  },
  {
   "cell_type": "markdown",
   "id": "0a611206",
   "metadata": {
    "deletable": false,
    "editable": false,
    "id": "e7a14c31"
   },
   "source": [
    "**Задание 1. Импортируйте библиотеку pandas. Считайте данные из csv-файла в датафрейм и сохраните в переменную `data`. Путь к файлу:**\n",
    "\n",
    "`/datasets/data.csv`"
   ]
  },
  {
   "cell_type": "code",
   "execution_count": null,
   "id": "00226eef",
   "metadata": {
    "deletable": false,
    "id": "7bcf75c9"
   },
   "outputs": [],
   "source": [
    "import pandas as pd\n",
    "\n",
    "try:\n",
    "    data = pd.read_csv('/datasets/data.csv')\n",
    "except:\n",
    "    data = pd.read_csv('https://code.s3.yandex.net/datasets/data.csv')"
   ]
  },
  {
   "cell_type": "markdown",
   "id": "0d7a285e",
   "metadata": {
    "deletable": false,
    "editable": false,
    "id": "b8038fe3"
   },
   "source": [
    "**Задание 2. Выведите первые 20 строчек датафрейма `data` на экран.**"
   ]
  },
  {
   "cell_type": "code",
   "execution_count": null,
   "id": "879fb7f9",
   "metadata": {
    "deletable": false,
    "id": "2a7cab99",
    "outputId": "1a8f3ef2-d323-4ec2-ddf7-89670b5944c4"
   },
   "outputs": [],
   "source": [
    "data.head(20)"
   ]
  },
  {
   "cell_type": "markdown",
   "id": "6e0c078a",
   "metadata": {
    "deletable": false,
    "editable": false,
    "id": "1c12e233"
   },
   "source": [
    "**Задание 3. Выведите основную информацию о датафрейме с помощью метода `info()`.**"
   ]
  },
  {
   "cell_type": "code",
   "execution_count": null,
   "id": "7fe49fec",
   "metadata": {
    "deletable": false,
    "id": "2b757bca",
    "outputId": "15376089-8dad-46c9-b520-c05248d43158"
   },
   "outputs": [],
   "source": [
    "data.info()"
   ]
  },
  {
   "cell_type": "markdown",
   "id": "b40fbe9d",
   "metadata": {
    "deletable": false,
    "editable": false,
    "id": "333ec665"
   },
   "source": [
    "## Предобработка данных"
   ]
  },
  {
   "cell_type": "markdown",
   "id": "c528e498",
   "metadata": {
    "deletable": false,
    "editable": false,
    "id": "02d92d53"
   },
   "source": [
    "### Удаление пропусков"
   ]
  },
  {
   "cell_type": "markdown",
   "id": "bd934483",
   "metadata": {
    "deletable": false,
    "editable": false,
    "id": "cd84967c"
   },
   "source": [
    "**Задание 4. Выведите количество пропущенных значений для каждого столбца. Используйте комбинацию двух методов.**"
   ]
  },
  {
   "cell_type": "code",
   "execution_count": null,
   "id": "795d0e5d",
   "metadata": {
    "deletable": false,
    "id": "7f9b2309",
    "outputId": "81f4d817-781c-465c-ed15-91ce4446810d"
   },
   "outputs": [],
   "source": [
    "data.isna().sum()"
   ]
  },
  {
   "cell_type": "markdown",
   "id": "766f69e4",
   "metadata": {
    "deletable": false,
    "editable": false,
    "id": "db86e27b"
   },
   "source": [
    "**Задание 5. В двух столбцах есть пропущенные значения. Один из них — `days_employed`. Пропуски в этом столбце вы обработаете на следующем этапе. Другой столбец с пропущенными значениями — `total_income` — хранит данные о доходах. На сумму дохода сильнее всего влияет тип занятости, поэтому заполнить пропуски в этом столбце нужно медианным значением по каждому типу из столбца `income_type`. Например, у человека с типом занятости `сотрудник` пропуск в столбце `total_income` должен быть заполнен медианным доходом среди всех записей с тем же типом.**"
   ]
  },
  {
   "cell_type": "code",
   "execution_count": null,
   "id": "b1f33e50",
   "metadata": {
    "deletable": false,
    "id": "42006a93"
   },
   "outputs": [],
   "source": [
    "for t in data['income_type'].unique():\n",
    "    data.loc[(data['income_type'] == t) & (data['total_income'].isna()), 'total_income'] = \\\n",
    "    data.loc[(data['income_type'] == t), 'total_income'].median()"
   ]
  },
  {
   "cell_type": "markdown",
   "id": "a7b5dffb",
   "metadata": {
    "deletable": false,
    "editable": false,
    "id": "89da5ece"
   },
   "source": [
    "### Обработка аномальных значений"
   ]
  },
  {
   "cell_type": "markdown",
   "id": "2fec642f",
   "metadata": {
    "deletable": false,
    "editable": false,
    "id": "57964554"
   },
   "source": [
    "**Задание 6. В данных могут встречаться артефакты (аномалии) — значения, которые не отражают действительность и появились по какой-то ошибке. таким артефактом будет отрицательное количество дней трудового стажа в столбце `days_employed`. Для реальных данных это нормально. Обработайте значения в этом столбце: замените все отрицательные значения положительными с помощью метода `abs()`.**"
   ]
  },
  {
   "cell_type": "code",
   "execution_count": null,
   "id": "11cd5063",
   "metadata": {
    "deletable": false,
    "id": "f6f055bf"
   },
   "outputs": [],
   "source": [
    "data['days_employed'] = data['days_employed'].abs()"
   ]
  },
  {
   "cell_type": "markdown",
   "id": "55e7c364",
   "metadata": {
    "deletable": false,
    "editable": false,
    "id": "6107dd2f"
   },
   "source": [
    "**Задание 7. Для каждого типа занятости выведите медианное значение трудового стажа `days_employed` в днях.**"
   ]
  },
  {
   "cell_type": "code",
   "execution_count": null,
   "id": "c451cd4d",
   "metadata": {
    "deletable": false,
    "id": "85a5faf6",
    "outputId": "801ef80e-522b-4668-f34e-565af7432bcf"
   },
   "outputs": [],
   "source": [
    "data.groupby('income_type')['days_employed'].agg('median')"
   ]
  },
  {
   "cell_type": "markdown",
   "id": "49cebb63",
   "metadata": {
    "deletable": false,
    "editable": false,
    "id": "38d1a030"
   },
   "source": [
    "У двух типов (безработные и пенсионеры) получатся аномально большие значения. Исправить такие значения сложно, поэтому оставьте их как есть. Тем более этот столбец не понадобится вам для исследования."
   ]
  },
  {
   "cell_type": "markdown",
   "id": "b215b93a",
   "metadata": {
    "deletable": false,
    "editable": false,
    "id": "d8a9f147"
   },
   "source": [
    "**Задание 8. Выведите перечень уникальных значений столбца `children`.**"
   ]
  },
  {
   "cell_type": "code",
   "execution_count": null,
   "id": "cc44e6b7",
   "metadata": {
    "deletable": false,
    "id": "ef5056eb",
    "outputId": "6975b15c-7f95-4697-d16d-a0c79b657b03"
   },
   "outputs": [],
   "source": [
    "data['children'].unique()"
   ]
  },
  {
   "cell_type": "markdown",
   "id": "f869ecba",
   "metadata": {
    "deletable": false,
    "editable": false,
    "id": "40b9ebf2"
   },
   "source": [
    "**Задание 9. В столбце `children` есть два аномальных значения. Удалите строки, в которых встречаются такие аномальные значения из датафрейма `data`.**"
   ]
  },
  {
   "cell_type": "code",
   "execution_count": null,
   "id": "6a5d0664",
   "metadata": {
    "deletable": false,
    "id": "3ff9801d"
   },
   "outputs": [],
   "source": [
    "data = data[(data['children'] != -1) & (data['children'] != 20)]"
   ]
  },
  {
   "cell_type": "markdown",
   "id": "7337ac6a",
   "metadata": {
    "deletable": false,
    "editable": false,
    "id": "bbc4d0ce"
   },
   "source": [
    "**Задание 10. Ещё раз выведите перечень уникальных значений столбца `children`, чтобы убедиться, что артефакты удалены.**"
   ]
  },
  {
   "cell_type": "code",
   "execution_count": null,
   "id": "624c67a0",
   "metadata": {
    "deletable": false,
    "id": "ad4fa8b7",
    "outputId": "b2097101-d49d-44d9-901b-32a65c9463d1"
   },
   "outputs": [],
   "source": [
    "data['children'].unique()"
   ]
  },
  {
   "cell_type": "markdown",
   "id": "a9392867",
   "metadata": {
    "deletable": false,
    "editable": false,
    "id": "75440b63"
   },
   "source": [
    "### Удаление пропусков (продолжение)"
   ]
  },
  {
   "cell_type": "markdown",
   "id": "e953aa76",
   "metadata": {
    "deletable": false,
    "editable": false,
    "id": "f4ea573f"
   },
   "source": [
    "**Задание 11. Заполните пропуски в столбце `days_employed` медианными значениями по каждого типа занятости `income_type`.**"
   ]
  },
  {
   "cell_type": "code",
   "execution_count": null,
   "id": "cd4f5a8f",
   "metadata": {
    "deletable": false,
    "id": "af6b1a7e"
   },
   "outputs": [],
   "source": [
    "for t in data['income_type'].unique():\n",
    "    data.loc[(data['income_type'] == t) & (data['days_employed'].isna()), 'days_employed'] = \\\n",
    "    data.loc[(data['income_type'] == t), 'days_employed'].median()"
   ]
  },
  {
   "cell_type": "markdown",
   "id": "9fb8d115",
   "metadata": {
    "deletable": false,
    "editable": false,
    "id": "2753f40d"
   },
   "source": [
    "**Задание 12. Убедитесь, что все пропуски заполнены. Проверьте себя и ещё раз выведите количество пропущенных значений для каждого столбца с помощью двух методов.**"
   ]
  },
  {
   "cell_type": "code",
   "execution_count": null,
   "id": "f58330c4",
   "metadata": {
    "deletable": false,
    "id": "55f78bc2",
    "outputId": "8da1e4e1-358e-4e87-98c9-f261bce0a7b2"
   },
   "outputs": [],
   "source": [
    "data.isna().sum()"
   ]
  },
  {
   "cell_type": "markdown",
   "id": "cb3caf4d",
   "metadata": {
    "deletable": false,
    "editable": false,
    "id": "ddc81e43"
   },
   "source": [
    "### Изменение типов данных"
   ]
  },
  {
   "cell_type": "markdown",
   "id": "0b9fe6dc",
   "metadata": {
    "deletable": false,
    "editable": false,
    "id": "42d19d24"
   },
   "source": [
    "**Задание 13. Замените вещественный тип данных в столбце `total_income` на целочисленный с помощью метода `astype()`.**"
   ]
  },
  {
   "cell_type": "code",
   "execution_count": null,
   "id": "0d78ad32",
   "metadata": {
    "deletable": false,
    "id": "920b65ad"
   },
   "outputs": [],
   "source": [
    "data['total_income'] = data['total_income'].astype(int)"
   ]
  },
  {
   "cell_type": "markdown",
   "id": "99ea7447",
   "metadata": {
    "deletable": false,
    "editable": false,
    "id": "80c420ba"
   },
   "source": [
    "### Обработка дубликатов"
   ]
  },
  {
   "cell_type": "markdown",
   "id": "864b8f02",
   "metadata": {
    "deletable": false,
    "editable": false
   },
   "source": [
    "**Задание 14. Обработайте неявные дубликаты в столбце `education`. В этом столбце есть одни и те же значения, но записанные по-разному: с использованием заглавных и строчных букв. Приведите их к нижнему регистру. Проверьте остальные столбцы.**"
   ]
  },
  {
   "cell_type": "code",
   "execution_count": null,
   "id": "74347da1",
   "metadata": {
    "deletable": false
   },
   "outputs": [],
   "source": [
    "data['education'] = data['education'].str.lower()"
   ]
  },
  {
   "cell_type": "markdown",
   "id": "ac312f68",
   "metadata": {
    "deletable": false,
    "editable": false,
    "id": "dc587695"
   },
   "source": [
    "**Задание 15. Выведите на экран количество строк-дубликатов в данных. Если такие строки присутствуют, удалите их.**"
   ]
  },
  {
   "cell_type": "code",
   "execution_count": null,
   "id": "8e70e2eb",
   "metadata": {
    "deletable": false,
    "id": "3ee445e4",
    "outputId": "9684deba-1934-42d1-99e1-cda61740f822"
   },
   "outputs": [],
   "source": [
    "data.duplicated().sum()"
   ]
  },
  {
   "cell_type": "code",
   "execution_count": null,
   "id": "3bce9198",
   "metadata": {
    "deletable": false,
    "id": "8575fe05"
   },
   "outputs": [],
   "source": [
    "data = data.drop_duplicates()"
   ]
  },
  {
   "cell_type": "markdown",
   "id": "f52998cf",
   "metadata": {
    "deletable": false,
    "editable": false,
    "id": "9904cf55"
   },
   "source": [
    "### Категоризация данных"
   ]
  },
  {
   "cell_type": "markdown",
   "id": "f4bb1c76",
   "metadata": {
    "deletable": false,
    "editable": false,
    "id": "72fcc8a2"
   },
   "source": [
    "**Задание 16. На основании диапазонов, указанных ниже, создайте в датафрейме `data` столбец `total_income_category` с категориями:**\n",
    "\n",
    "- 0–30000 — `'E'`;\n",
    "- 30001–50000 — `'D'`;\n",
    "- 50001–200000 — `'C'`;\n",
    "- 200001–1000000 — `'B'`;\n",
    "- 1000001 и выше — `'A'`.\n",
    "\n",
    "\n",
    "**Например, кредитополучателю с доходом 25000 нужно назначить категорию `'E'`, а клиенту, получающему 235000, — `'B'`. Используйте собственную функцию с именем `categorize_income()` и метод `apply()`.**"
   ]
  },
  {
   "cell_type": "code",
   "execution_count": null,
   "id": "60c6fcba",
   "metadata": {
    "deletable": false,
    "id": "e1771346"
   },
   "outputs": [],
   "source": [
    "def categorize_income(income):\n",
    "    try:\n",
    "        if 0 <= income <= 30000:\n",
    "            return 'E'\n",
    "        elif 30001 <= income <= 50000:\n",
    "            return 'D'\n",
    "        elif 50001 <= income <= 200000:\n",
    "            return 'C'\n",
    "        elif 200001 <= income <= 1000000:\n",
    "            return 'B'\n",
    "        elif income >= 1000001:\n",
    "            return 'A'\n",
    "    except:\n",
    "        pass"
   ]
  },
  {
   "cell_type": "code",
   "execution_count": null,
   "id": "298cafce",
   "metadata": {
    "deletable": false,
    "id": "d5f3586d"
   },
   "outputs": [],
   "source": [
    "data['total_income_category'] = data['total_income'].apply(categorize_income)"
   ]
  },
  {
   "cell_type": "markdown",
   "id": "1326923b",
   "metadata": {
    "deletable": false,
    "editable": false,
    "id": "dde49b5c"
   },
   "source": [
    "**Задание 17. Выведите на экран перечень уникальных целей взятия кредита из столбца `purpose`.**"
   ]
  },
  {
   "cell_type": "code",
   "execution_count": null,
   "id": "8f1d51a2",
   "metadata": {
    "deletable": false,
    "id": "f67ce9b3",
    "outputId": "673c12d9-7d7e-4ae0-9812-c622c89dd244"
   },
   "outputs": [],
   "source": [
    "data['purpose'].unique()"
   ]
  },
  {
   "cell_type": "markdown",
   "id": "170c8506",
   "metadata": {
    "deletable": false,
    "editable": false,
    "id": "85d0aef0"
   },
   "source": [
    "**Задание 18. Создайте функцию, которая на основании данных из столбца `purpose` сформирует новый столбец `purpose_category`, в который войдут следующие категории:**\n",
    "\n",
    "- `'операции с автомобилем'`,\n",
    "- `'операции с недвижимостью'`,\n",
    "- `'проведение свадьбы'`,\n",
    "- `'получение образования'`.\n",
    "\n",
    "**Например, если в столбце `purpose` находится подстрока `'на покупку автомобиля'`, то в столбце `purpose_category` должна появиться строка `'операции с автомобилем'`.**\n",
    "\n",
    "**Используйте собственную функцию с именем `categorize_purpose()` и метод `apply()`. Изучите данные в столбце `purpose` и определите, какие подстроки помогут вам правильно определить категорию.**"
   ]
  },
  {
   "cell_type": "code",
   "execution_count": null,
   "id": "726c07df",
   "metadata": {
    "deletable": false,
    "id": "e149fab4"
   },
   "outputs": [],
   "source": [
    "def categorize_purpose(row):\n",
    "    try:\n",
    "        if 'автом' in row:\n",
    "            return 'операции с автомобилем'\n",
    "        elif 'жил' in row or 'недвиж' in row:\n",
    "            return 'операции с недвижимостью'\n",
    "        elif 'свад' in row:\n",
    "            return 'проведение свадьбы'\n",
    "        elif 'образов' in row:\n",
    "            return 'получение образования'\n",
    "    except:\n",
    "        return 'нет категории'"
   ]
  },
  {
   "cell_type": "code",
   "execution_count": null,
   "id": "ad880886",
   "metadata": {
    "deletable": false,
    "id": "bf36e69b"
   },
   "outputs": [],
   "source": [
    "data['purpose_category'] = data['purpose'].apply(categorize_purpose)"
   ]
  },
  {
   "cell_type": "markdown",
   "id": "4b34e56c",
   "metadata": {
    "deletable": false,
    "editable": false,
    "id": "09b242bf"
   },
   "source": [
    "### Шаг 3. Исследуйте данные и ответьте на вопросы"
   ]
  },
  {
   "cell_type": "markdown",
   "id": "beb2705d",
   "metadata": {
    "deletable": false,
    "editable": false,
    "id": "c5d66278"
   },
   "source": [
    "#### 3.1 Есть ли зависимость между количеством детей и возвратом кредита в срок?"
   ]
  },
  {
   "cell_type": "markdown",
   "id": "843a75c0",
   "metadata": {},
   "source": [
    "Посмотрим первые 20 строк получившейся после предобработки таблицы:"
   ]
  },
  {
   "cell_type": "code",
   "execution_count": null,
   "id": "7066e851",
   "metadata": {
    "deletable": false,
    "id": "2a7cab99",
    "outputId": "1a8f3ef2-d323-4ec2-ddf7-89670b5944c4"
   },
   "outputs": [],
   "source": [
    "data.head(20)"
   ]
  },
  {
   "cell_type": "code",
   "execution_count": null,
   "id": "b5ab372a",
   "metadata": {
    "deletable": false,
    "id": "2cacfc4a",
    "scrolled": false
   },
   "outputs": [],
   "source": [
    "data.head()"
   ]
  },
  {
   "cell_type": "markdown",
   "id": "8643f74d",
   "metadata": {},
   "source": [
    "Посмотрим общую информацию по таблице:"
   ]
  },
  {
   "cell_type": "code",
   "execution_count": null,
   "id": "d793b0cf",
   "metadata": {},
   "outputs": [],
   "source": [
    "data.info()"
   ]
  },
  {
   "cell_type": "markdown",
   "id": "5badfeae",
   "metadata": {},
   "source": [
    "Посмотрим как распределяются данные в таблице в зависимости от наличия детей и их колличества: "
   ]
  },
  {
   "cell_type": "code",
   "execution_count": null,
   "id": "fd7f394b",
   "metadata": {},
   "outputs": [],
   "source": [
    "data.groupby('children')['debt'].count()"
   ]
  },
  {
   "cell_type": "markdown",
   "id": "b4acb9c0",
   "metadata": {},
   "source": [
    "Видим что больше всего кредитов у заемщиков не имеющих детей. Не спешим с выводом так как заемщиков без детей может быть просто больше в таблице и правильней будет проводить подсчеты в двух группах заемщикв с детьми и без детей."
   ]
  },
  {
   "cell_type": "markdown",
   "id": "58541e0b",
   "metadata": {},
   "source": [
    "Посчитаем количество заемщиков в разных группах: "
   ]
  },
  {
   "cell_type": "code",
   "execution_count": null,
   "id": "06ca79b5",
   "metadata": {},
   "outputs": [],
   "source": [
    "# Подсчеты для заемщиков с детьми\n",
    "childok = data[data['children'] > 0]\n",
    "childok_len_total = len(childok['children'])\n",
    "childok_len =childok.loc[((childok['children'] > 0) &(childok['debt' ] > 0))]\n",
    "childok_len_1 = len(childok_len['children'])\n",
    "# Подсчеты для заемщиков без детей\n",
    "childfree = data[data['children'] == 0]\n",
    "childfree_len = len(childfree['children'])\n",
    "childfree_len_debt = childfree.loc[((childfree['children'] == 0) &(childfree['debt' ] > 0))]\n",
    "childfree_len_debt_1 = len(childfree_len_debt['children']) \n",
    "\n",
    "#Подсчеты для заемщиков с 1 и более детей\n",
    "childok_1 = childok.loc[((childok['children'] == 1) &(childok['debt' ] > 0))]\n",
    "childok_1_len = len(childok_1['children'])\n",
    "childok_2 = childok.loc[((childok['children'] > 1) &(childok['debt' ] > 0))]\n",
    "childok_2_len = len(childok_2['children'])\n",
    "\n",
    "print('Общее количество заемщиков с детьми:', childok_len_total)\n",
    "print('Общее количество заемщиков без детей:',childfree_len)\n",
    "print('обще количество заемщиков без детей и с просрочками по кредиту:',childfree_len_debt_1,)\n",
    "print('Общее количество заемщиков с детьми и просрочками по кредиту:', childok_len_1)\n",
    "print('Общее колличество заемщиков с 1 ребенком и просрочками по кредиту:',childok_1_len)\n",
    "print('Общее количество заемщиков с 2 и более детьми и просрочками по кредиту:',childok_2_len)"
   ]
  },
  {
   "cell_type": "markdown",
   "id": "aecb00ce",
   "metadata": {},
   "source": [
    "Посчитаем процент кредитов с просрочками среди заемщиков с детьми:"
   ]
  },
  {
   "cell_type": "code",
   "execution_count": null,
   "id": "29f2bd7f",
   "metadata": {},
   "outputs": [],
   "source": [
    "child_ok = childok_len_1/childok_len_total*100\n",
    "child_ok"
   ]
  },
  {
   "cell_type": "markdown",
   "id": "06c4a78b",
   "metadata": {},
   "source": [
    "Посчитаем процент кредитов с просрочками среди заемщиков без детей:"
   ]
  },
  {
   "cell_type": "code",
   "execution_count": null,
   "id": "0bd012ab",
   "metadata": {},
   "outputs": [],
   "source": [
    "childfree_debt = childfree_len_debt_1/childfree_len*100\n",
    "childfree_debt"
   ]
  },
  {
   "cell_type": "markdown",
   "id": "091d6295",
   "metadata": {},
   "source": [
    "Посчитаем влияние колличества детей на просрочки по кредитам разбив должников с детьми на 2 группы имеющие 1 ребенка и 2х и более.\n"
   ]
  },
  {
   "cell_type": "markdown",
   "id": "e582c9dd",
   "metadata": {},
   "source": [
    "Расчет для группу заемщиков с 1 ребенком:"
   ]
  },
  {
   "cell_type": "code",
   "execution_count": null,
   "id": "5ce0cf58",
   "metadata": {},
   "outputs": [],
   "source": [
    "childok_1_debt = childok_1_len/childok_len_total*100\n",
    "childok_1_debt"
   ]
  },
  {
   "cell_type": "markdown",
   "id": "91e4540d",
   "metadata": {},
   "source": [
    "Расчет для группы с 2 и более детьми:"
   ]
  },
  {
   "cell_type": "code",
   "execution_count": null,
   "id": "e0e42e21",
   "metadata": {},
   "outputs": [],
   "source": [
    "childok_2_debt = childok_2_len/childok_len_total*100\n",
    "childok_2_debt"
   ]
  },
  {
   "cell_type": "markdown",
   "id": "609ebfdb",
   "metadata": {
    "deletable": false,
    "id": "3a6b99ec"
   },
   "source": [
    " **Вывод:** Гипотеза подтвердилась. Так заемщики имеющие детей чаще допускают просрочки 9.24% против 7.54% среди замещиков не имеющих детей. Проверка гипотезы в отношении влияния колличества детей так же частично подтвердилась. Так заемщики имеющие 1 ребенка допускают просрочку в 6.13% случаев а имеющие 2 и более детей 3.11%. Результаты показывают снижение процента должников с количесвтом детей. Возможно дело в количестве заемщиков 1 и 2 группы так 1 группа имеющая 1 ребенка в 2 раза больше 2 группы заемщиков с 2 и более детьми 444 и 225 соответственно. Но в целом расчеты показывают что должники с детьми менее дисциплинированные заемщики."
   ]
  },
  {
   "cell_type": "markdown",
   "id": "0f1811b1",
   "metadata": {
    "deletable": false,
    "editable": false,
    "id": "97be82ca"
   },
   "source": [
    "#### 3.2 Есть ли зависимость между семейным положением и возвратом кредита в срок?"
   ]
  },
  {
   "cell_type": "markdown",
   "id": "ff393fee",
   "metadata": {},
   "source": [
    "Посмотрим как распределяются данные в таблице среди должников по статусам семейного положения."
   ]
  },
  {
   "cell_type": "code",
   "execution_count": null,
   "id": "b690cb31",
   "metadata": {
    "deletable": false,
    "id": "dc3f7ee8"
   },
   "outputs": [],
   "source": [
    "data.groupby(by = 'family_status' )['debt'].count()"
   ]
  },
  {
   "cell_type": "code",
   "execution_count": null,
   "id": "717bacc2",
   "metadata": {},
   "outputs": [],
   "source": [
    "data.groupby(by = 'family_status_id' )['debt'].count()"
   ]
  },
  {
   "cell_type": "markdown",
   "id": "835e95ae",
   "metadata": {},
   "source": [
    "Предварительные данные говорят, что больше всего кредитов среди женатых заемщиков. А заемщики в таблице разбиты на 5 категорий которые по смыслу можно обьединить в 2"
   ]
  },
  {
   "cell_type": "markdown",
   "id": "14319531",
   "metadata": {},
   "source": [
    "Посчитаем общее колличество должников со статусом в браке это 2 группы 'женат / замужем' и 'гражданский брак'."
   ]
  },
  {
   "cell_type": "code",
   "execution_count": null,
   "id": "edd73fce",
   "metadata": {
    "scrolled": true
   },
   "outputs": [],
   "source": [
    "family_status_on = data[data['family_status_id'] <=1]\n",
    "family_status_on_len = len(family_status_on['family_status_id'])\n",
    "print (family_status_on_len)\n",
    "family_status_on_debt = family_status_on.loc[((family_status_on['family_status_id'] <=1) &(family_status_on['debt' ] > 0))]\n",
    "family_status_on_debt_len = len(family_status_on_debt['family_status_id'])\n",
    "print(family_status_on_debt_len)\n"
   ]
  },
  {
   "cell_type": "markdown",
   "id": "38159b56",
   "metadata": {},
   "source": [
    "Получили 16395 заемщиков со статусом в браке (официальный или гражданский) и 1312 заемщиков состоящие в браке и имеющие задолженность осталось посчитать отношение в процентах:"
   ]
  },
  {
   "cell_type": "code",
   "execution_count": null,
   "id": "191fc562",
   "metadata": {},
   "outputs": [],
   "source": [
    "family_status_on_debt_len/family_status_on_len*100"
   ]
  },
  {
   "cell_type": "markdown",
   "id": "37c449c1",
   "metadata": {},
   "source": [
    "Посчитаем общее колличество должников со статусом не в браке:"
   ]
  },
  {
   "cell_type": "code",
   "execution_count": null,
   "id": "2b011d09",
   "metadata": {},
   "outputs": [],
   "source": [
    "family_status_off = data[data['family_status_id'] >=2]\n",
    "family_status_off_len = len(family_status_off['family_status_id'])\n",
    "print(family_status_off_len)\n",
    "family_status_off_debt = family_status_off.loc[((family_status_off['family_status_id'] >=2) &(family_status_off['debt' ] > 0))]\n",
    "family_status_off_debt_len = len(family_status_off_debt['family_status_id'])\n",
    "print(family_status_off_debt_len)\n"
   ]
  },
  {
   "cell_type": "markdown",
   "id": "c8a938df",
   "metadata": {},
   "source": [
    "Получили 4936 заемщиков со статусом не в браке (в разводе, вдовец / вдова, Не женат / не замужем) и 420 заемщиков не в браке и имеющие задолженность. Осталось посчитать отношение в процентах:\n",
    "    \n",
    "    \n",
    "    "
   ]
  },
  {
   "cell_type": "code",
   "execution_count": null,
   "id": "7d2a577d",
   "metadata": {},
   "outputs": [],
   "source": [
    "family_status_off_debt_len/family_status_off_len*100"
   ]
  },
  {
   "cell_type": "markdown",
   "id": "2a8d790e",
   "metadata": {
    "deletable": false,
    "id": "1cef7837"
   },
   "source": [
    "**Вывод:** Гипотеза подтвердилась зависимость от семейного положения небольшая но есть. Так заемщики не в браке имеют просрочки по кредитам в 8.5% в отличии от должников состоящих в браке 8.0% соответственно."
   ]
  },
  {
   "cell_type": "markdown",
   "id": "46337f20",
   "metadata": {
    "deletable": false,
    "editable": false,
    "id": "1e8b2fca"
   },
   "source": [
    "#### 3.3 Есть ли зависимость между уровнем дохода и возвратом кредита в срок?"
   ]
  },
  {
   "cell_type": "markdown",
   "id": "79e98de7",
   "metadata": {
    "deletable": false,
    "id": "cd7e3720"
   },
   "source": [
    "Посмотрим как распределяются данные по категориям уровня дохода:"
   ]
  },
  {
   "cell_type": "code",
   "execution_count": null,
   "id": "fa7a8afd",
   "metadata": {},
   "outputs": [],
   "source": [
    "data.groupby('total_income_category')['debt'].count()"
   ]
  },
  {
   "cell_type": "markdown",
   "id": "196dc538",
   "metadata": {},
   "source": [
    "Больше всего займов берут люди с уровнем дохода соответствующий категории 'С'. Посчитаем процент просрочек в каждой группе заемщиков и их количество:\n",
    "    "
   ]
  },
  {
   "cell_type": "code",
   "execution_count": null,
   "id": "4477c681",
   "metadata": {},
   "outputs": [],
   "source": [
    "#Подсчет для категории \"А\"\n",
    "total_income_debt_a = data.loc[((data['total_income_category'] == 'A') &(data['debt' ] > 0))]\n",
    "total_income_debt_a_len = len(total_income_debt_a['total_income_category'])\n",
    "print('В категории А просрочек:', total_income_debt_a_len, 'процент не просрочек', total_income_debt_a_len/25*100)\n",
    "\n",
    "#Подсчет для категории \"B\"\n",
    "total_income_debt_b = data.loc[((data['total_income_category'] == 'B') &(data['debt' ] > 0))]\n",
    "total_income_debt_b_len = len(total_income_debt_b['total_income_category'])\n",
    "print('В категории B просрочек:', total_income_debt_b_len, 'процент просрочек', total_income_debt_b_len/5014*100)\n",
    "\n",
    "#Подсчет для категории \"C\"\n",
    "total_income_debt_c = data.loc[((data['total_income_category'] == 'C') &(data['debt' ] > 0))]\n",
    "total_income_debt_c_len = len(total_income_debt_c['total_income_category'])\n",
    "print('В категории C просрочек:', total_income_debt_c_len, 'процент просрочек', total_income_debt_c_len/15921*100)\n",
    "\n",
    "#Подсчет для категории \"D\"\n",
    "total_income_debt_d = data.loc[((data['total_income_category'] == 'D') &(data['debt' ] > 0))]\n",
    "total_income_debt_d_len = len(total_income_debt_d['total_income_category'])\n",
    "print('В категории D просрочек:', total_income_debt_d_len,'процент просрочек', total_income_debt_d_len/349*100)\n",
    "\n",
    "#Подсчет для категории \"E\"\n",
    "total_income_debt_e = data.loc[((data['total_income_category'] == 'E') &(data['debt' ] > 0))]\n",
    "total_income_debt_e_len = len(total_income_debt_e['total_income_category'])\n",
    "print('В категории E просрочек:', total_income_debt_e_len,'процент просрочек', total_income_debt_e_len/22*100)"
   ]
  },
  {
   "cell_type": "markdown",
   "id": "b1a1a20c",
   "metadata": {},
   "source": [
    "Произведем подсчет процентного отношения кредитов с просрочками к общему чеслу кредитов в указанных группах:"
   ]
  },
  {
   "cell_type": "markdown",
   "id": "05201126",
   "metadata": {},
   "source": [
    "Для наглядности поместим полученные данные в таблицу:"
   ]
  },
  {
   "cell_type": "code",
   "execution_count": null,
   "id": "e6be3b77",
   "metadata": {},
   "outputs": [],
   "source": [
    "df = pd.DataFrame({'total_income_category':[\"A\",\"B\",\"C\",\"D\",\"E\"], 'total_income_category_count':[25,5014,15921,349,22], 'total_income_category_debt_count': [2,354,1353,21,2], 'total_income_category_debt_procent':[8.0,7.06,8.49,6.01,9.09]})\n",
    "df\n",
    "                   \n",
    "                   "
   ]
  },
  {
   "cell_type": "markdown",
   "id": "af265fed",
   "metadata": {
    "deletable": false,
    "id": "e8593def"
   },
   "source": [
    "**Вывод:** Гипотеза подтвердилась. в зависимости от категории дохода заемщика процент займов с просрочками разнится. Так наименее дисциплинированные заемщики в категории 'E' а самые дисципленированные в категории 'D'"
   ]
  },
  {
   "cell_type": "markdown",
   "id": "4f620ee1",
   "metadata": {
    "deletable": false,
    "editable": false,
    "id": "99ecbd1f"
   },
   "source": [
    "#### 3.4 Как разные цели кредита влияют на его возврат в срок?"
   ]
  },
  {
   "cell_type": "markdown",
   "id": "1f058a1d",
   "metadata": {
    "deletable": false,
    "id": "2b687290"
   },
   "source": [
    "Посмотри как распределяются данные в таблице по целям кредита ранее мы их распределили на 4 группы:"
   ]
  },
  {
   "cell_type": "code",
   "execution_count": null,
   "id": "7c16d79d",
   "metadata": {},
   "outputs": [],
   "source": [
    "data.groupby('purpose_category')['debt'].count()"
   ]
  },
  {
   "cell_type": "markdown",
   "id": "77f9dc8b",
   "metadata": {},
   "source": [
    "Видим что больше всего займов берут на операции с недвижимостью.Посчитаем процент просрочек в каждой группе заемщиков и их количество:"
   ]
  },
  {
   "cell_type": "code",
   "execution_count": null,
   "id": "4dce6c6d",
   "metadata": {},
   "outputs": [],
   "source": [
    "#Подсчет для категории \"операции с автомобилем\"\n",
    "purpose_category_auto_debt = data.loc[((data['purpose_category'] == 'операции с автомобилем') &(data['debt' ] > 0))]\n",
    "purpose_category_auto_debt_len = len(purpose_category_auto_debt['purpose_category'])\n",
    "print('В категории операции с автомобилем просрочек:', purpose_category_auto_debt_len, 'процент просрочек', purpose_category_auto_debt_len/4279*100)\n",
    "\n",
    "#Подсчет для категории \"операции с недвижимостью\"\n",
    "purpose_category_property_debt = data.loc[((data['purpose_category'] == 'операции с недвижимостью') &(data['debt' ] > 0))]\n",
    "purpose_category_property_debt_len = len(purpose_category_property_debt['purpose_category'])\n",
    "print('В категории операции с недвижимостью просрочек:', purpose_category_property_debt_len, 'процент просрочек', purpose_category_property_debt_len/10751*100)\n",
    "\n",
    "#Подсчет для категории \"получение образования\"\n",
    "purpose_category_education_debt = data.loc[((data['purpose_category'] == 'получение образования') &(data['debt' ] > 0))]\n",
    "purpose_category_education_debt_len = len(purpose_category_education_debt['purpose_category'])\n",
    "print('В категории получение образования просрочек:', purpose_category_education_debt_len, 'процент просрочек', purpose_category_education_debt_len/3988*100)\n",
    "\n",
    "#Подсчет для категории \"проведение свадьбы\"\n",
    "purpose_category_wedding_debt = data.loc[((data['purpose_category'] == 'проведение свадьбы') &(data['debt' ] > 0))]\n",
    "purpose_category_wedding_debt_len = len(purpose_category_wedding_debt['purpose_category'])\n",
    "print('В категории проведение свадьбы просрочек:', purpose_category_wedding_debt_len, 'процент просрочек', purpose_category_wedding_debt_len/2313*100)\n",
    "\n"
   ]
  },
  {
   "cell_type": "markdown",
   "id": "43ad067d",
   "metadata": {},
   "source": [
    "Для наглядности поместим данные в таблицу:"
   ]
  },
  {
   "cell_type": "code",
   "execution_count": null,
   "id": "94334191",
   "metadata": {},
   "outputs": [],
   "source": [
    "df_target = pd.DataFrame({'purpose_category':[\"операции с автомобилем\",\"операции с недвижимостью\",\"получение образования\",\"проведение свадьбы\"], 'purpose_category_count':[4279,10751,3988,2313], 'purpose_category_debt_count': [400,780,369,183], 'purpose_category_debt_procent':[9.34,7.25,9.25,7.91]})\n",
    "df_target"
   ]
  },
  {
   "cell_type": "markdown",
   "id": "87c92297",
   "metadata": {
    "deletable": false,
    "id": "b4bb2ce6"
   },
   "source": [
    "**Вывод:** Гипотеза подтвердилась цель кредита влияет на процент займов с просрочами. Так заемщики в категории операции с недвижимостью самые дисциплинированные, а в категории операции с автомобилем самые не дисциплинированные."
   ]
  },
  {
   "cell_type": "markdown",
   "id": "def0e3e2",
   "metadata": {
    "deletable": false,
    "editable": false,
    "id": "09c3ac4c"
   },
   "source": [
    "#### 3.5 Приведите возможные причины появления пропусков в исходных данных."
   ]
  },
  {
   "cell_type": "markdown",
   "id": "de9e90ce",
   "metadata": {
    "deletable": false,
    "id": "9da2ceda"
   },
   "source": [
    "*Ответ:* Пропуски в исходных данных могут быть случайными, не сучайными, вызванными техническими ошибками, ошибками кода, или ошибками ввода."
   ]
  },
  {
   "cell_type": "markdown",
   "id": "1ed923c8",
   "metadata": {
    "deletable": false,
    "editable": false,
    "id": "7b0487d6"
   },
   "source": [
    "#### 3.6 Объясните, почему заполнить пропуски медианным значением — лучшее решение для количественных переменных."
   ]
  },
  {
   "cell_type": "markdown",
   "id": "a833ebd5",
   "metadata": {
    "deletable": false,
    "id": "7ecf2b8e"
   },
   "source": [
    "*Ответ:* Медианное значение менее подверженно резким выбросам в данных, а соответсвенно позволит произвести посдсчеты более точно."
   ]
  },
  {
   "cell_type": "markdown",
   "id": "39249357",
   "metadata": {
    "deletable": false,
    "editable": false,
    "id": "6db5255a"
   },
   "source": [
    "### Шаг 4: общий вывод."
   ]
  },
  {
   "cell_type": "markdown",
   "id": "d7b7fd28",
   "metadata": {
    "deletable": false,
    "id": "bad65432"
   },
   "source": [
    "Перед исследованием стояла задача заказчика — кредитный отдел банка. Нужно было понять, влияет ли семейное положение и количество детей клиента на факт погашения кредита в срок. Для этого мы проверили следующие гипотезы: \n",
    "\n",
    "-Есть ли зависимость между количеством детей и возвратом кредита в срок:\n",
    "Проверка данной гипотезы показала что зависимость есть и колличество детей влияет на просрочки по кредитам. Так заемщики имеющие детей чаще допускают просрочки 9.24% против 7.54% среди замещиков не имеющих детей. Проверка гипотезы в отношении влияния колличества детей так же частично подтвердилась. Так заемщики имеющие 1 ребенка допускают просрочку в 6.13% случаев, а имеющие 2 и более детей 3.11%.\n",
    "\n",
    "-Есть ли зависимость между семейным положением и возвратом кредита в срок:\n",
    "Гипотеза подтвердилась зависимость от семейного положения есть. Так заемщики не в браке имеют просрочки по кредитам в 8.5% в отличии от должников состоящих в браке 8.0% соответственно. Соответствено данные о семейном положении так же нужно учитывать при проведении кредитного скоринга.\n",
    "\n",
    "-Есть ли зависимость между уровнем дохода и возвратом кредита в срок:\n",
    "Гипотеза подтвердилась. в зависимости от категории дохода заемщика процент займов с просрочками разнится. Так наименее дисциплинированные заемщики в категории 'E' а самые дисципленированные в категории 'D' Соответственно без этих данных кредитный скорин потеряет в точности.\n",
    "\n",
    "-Как разные цели кредита влияют на его возврат в срок:\n",
    "\n",
    "Гипотеза подтвердилась цель кредита влияет на процент займов с просрочами. Так заемщики в категории операции с недвижимостью самые дисциплинированные, а в категории операции с автомобилем самые не дисциплинированные.\n",
    "\n",
    "Для проведения правильных расчетов данные были очищенны от дубликатов, пропусков, разбиты на смысловые категории (на пример по уникальным целям взятия кредита), убраны выбросы что позволило сделать выводы точными и достоверными. \n",
    "\n",
    "Подводя общий итог можно утверждать, что все исследованные гипотезы подтвердились и заказчику следует использовать данные показатели при осуществлении кредитного скоринга.\n"
   ]
  }
 ],
 "metadata": {
  "kernelspec": {
   "display_name": "Python 3 (ipykernel)",
   "language": "python",
   "name": "python3"
  },
  "language_info": {
   "codemirror_mode": {
    "name": "ipython",
    "version": 3
   },
   "file_extension": ".py",
   "mimetype": "text/x-python",
   "name": "python",
   "nbconvert_exporter": "python",
   "pygments_lexer": "ipython3",
   "version": "3.9.13"
  }
 },
 "nbformat": 4,
 "nbformat_minor": 5
}
